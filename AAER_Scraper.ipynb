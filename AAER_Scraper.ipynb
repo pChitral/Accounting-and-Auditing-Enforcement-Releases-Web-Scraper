{
 "cells": [
  {
   "cell_type": "code",
   "execution_count": 1,
   "metadata": {},
   "outputs": [
    {
     "data": {
      "text/html": [
       "<div>\n",
       "<style scoped>\n",
       "    .dataframe tbody tr th:only-of-type {\n",
       "        vertical-align: middle;\n",
       "    }\n",
       "\n",
       "    .dataframe tbody tr th {\n",
       "        vertical-align: top;\n",
       "    }\n",
       "\n",
       "    .dataframe thead th {\n",
       "        text-align: right;\n",
       "    }\n",
       "</style>\n",
       "<table border=\"1\" class=\"dataframe\">\n",
       "  <thead>\n",
       "    <tr style=\"text-align: right;\">\n",
       "      <th></th>\n",
       "      <th>Date</th>\n",
       "      <th>Respondents</th>\n",
       "      <th>Release Numbers</th>\n",
       "      <th>Link</th>\n",
       "    </tr>\n",
       "  </thead>\n",
       "  <tbody>\n",
       "    <tr>\n",
       "      <th>0</th>\n",
       "      <td>June 2, 2023</td>\n",
       "      <td>Pending Administrative Proceedings (Order Vaca...</td>\n",
       "      <td>33-11199, 34-97641, IA-6324, IC-34934, AAER-4414</td>\n",
       "      <td>https://www.sec.gov/files/litigation/opinions/...</td>\n",
       "    </tr>\n",
       "    <tr>\n",
       "      <th>1</th>\n",
       "      <td>June 2, 2023</td>\n",
       "      <td>Pending Administrative Proceedings (Order Dism...</td>\n",
       "      <td>33-11198, 34-97640, IA-6323, IC-34933, AAER-4413</td>\n",
       "      <td>https://www.sec.gov/files/litigation/opinions/...</td>\n",
       "    </tr>\n",
       "    <tr>\n",
       "      <th>2</th>\n",
       "      <td>June 1, 2023</td>\n",
       "      <td>Carl S. Schwartz, CPA</td>\n",
       "      <td>IA-6320, AAER-4412</td>\n",
       "      <td>https://www.sec.gov/files/litigation/admin/202...</td>\n",
       "    </tr>\n",
       "    <tr>\n",
       "      <th>3</th>\n",
       "      <td>May 26, 2023</td>\n",
       "      <td>Gartner, Inc.</td>\n",
       "      <td>34-97609, AAER-4411</td>\n",
       "      <td>https://www.sec.gov/files/litigation/admin/202...</td>\n",
       "    </tr>\n",
       "    <tr>\n",
       "      <th>4</th>\n",
       "      <td>May 25, 2023</td>\n",
       "      <td>Jia Roger Qian Wang, CPA and Wang Certified Pu...</td>\n",
       "      <td>34-97590, AAER-4410</td>\n",
       "      <td>https://www.sec.gov/files/litigation/opinions/...</td>\n",
       "    </tr>\n",
       "  </tbody>\n",
       "</table>\n",
       "</div>"
      ],
      "text/plain": [
       "           Date                                        Respondents  \\\n",
       "0  June 2, 2023  Pending Administrative Proceedings (Order Vaca...   \n",
       "1  June 2, 2023  Pending Administrative Proceedings (Order Dism...   \n",
       "2  June 1, 2023                              Carl S. Schwartz, CPA   \n",
       "3  May 26, 2023                                      Gartner, Inc.   \n",
       "4  May 25, 2023  Jia Roger Qian Wang, CPA and Wang Certified Pu...   \n",
       "\n",
       "                                    Release Numbers  \\\n",
       "0  33-11199, 34-97641, IA-6324, IC-34934, AAER-4414   \n",
       "1  33-11198, 34-97640, IA-6323, IC-34933, AAER-4413   \n",
       "2                                IA-6320, AAER-4412   \n",
       "3                               34-97609, AAER-4411   \n",
       "4                               34-97590, AAER-4410   \n",
       "\n",
       "                                                Link  \n",
       "0  https://www.sec.gov/files/litigation/opinions/...  \n",
       "1  https://www.sec.gov/files/litigation/opinions/...  \n",
       "2  https://www.sec.gov/files/litigation/admin/202...  \n",
       "3  https://www.sec.gov/files/litigation/admin/202...  \n",
       "4  https://www.sec.gov/files/litigation/opinions/...  "
      ]
     },
     "execution_count": 1,
     "metadata": {},
     "output_type": "execute_result"
    }
   ],
   "source": [
    "from scraper.config_loader import ConfigLoader\n",
    "from scraper.aaer_scraper import AAERScraper\n",
    "\n",
    "# Load configuration from file\n",
    "config = ConfigLoader.load_config('config.ini')\n",
    "\n",
    "# Create an instance of the TableScraper class with page number 0\n",
    "scraper = AAERScraper(0, config)\n",
    "\n",
    "# Scrape the table and get the DataFrame\n",
    "df = scraper.scrape_and_get_dataframe()\n",
    "\n",
    "# Print the DataFrame\n",
    "df.head()\n"
   ]
  },
  {
   "cell_type": "code",
   "execution_count": 2,
   "metadata": {},
   "outputs": [
    {
     "name": "stderr",
     "output_type": "stream",
     "text": [
      "INFO: Data saved to AAER_Data.csv successfully.\n"
     ]
    }
   ],
   "source": [
    "scraper.save_to_csv(\"AAER_Data.csv\")"
   ]
  },
  {
   "cell_type": "code",
   "execution_count": 3,
   "metadata": {},
   "outputs": [
    {
     "name": "stderr",
     "output_type": "stream",
     "text": [
      "INFO: Scraped page 0 successfully.\n",
      "INFO: Scraped page 3 successfully.\n",
      "INFO: Scraped page 1 successfully.\n",
      "INFO: Scraped page 2 successfully.\n",
      "INFO: Scraped page 6 successfully.\n",
      "INFO: Scraped page 5 successfully.\n",
      "INFO: Scraped page 4 successfully.\n",
      "INFO: Scraped page 7 successfully.\n"
     ]
    },
    {
     "data": {
      "text/html": [
       "<div>\n",
       "<style scoped>\n",
       "    .dataframe tbody tr th:only-of-type {\n",
       "        vertical-align: middle;\n",
       "    }\n",
       "\n",
       "    .dataframe tbody tr th {\n",
       "        vertical-align: top;\n",
       "    }\n",
       "\n",
       "    .dataframe thead th {\n",
       "        text-align: right;\n",
       "    }\n",
       "</style>\n",
       "<table border=\"1\" class=\"dataframe\">\n",
       "  <thead>\n",
       "    <tr style=\"text-align: right;\">\n",
       "      <th></th>\n",
       "      <th>Date</th>\n",
       "      <th>Respondents</th>\n",
       "      <th>Release Numbers</th>\n",
       "      <th>Link</th>\n",
       "    </tr>\n",
       "  </thead>\n",
       "  <tbody>\n",
       "    <tr>\n",
       "      <th>883</th>\n",
       "      <td>Dec. 15, 2014</td>\n",
       "      <td>BDO China Dahua CPA Co., Ltd. Deloitte Touche ...</td>\n",
       "      <td>34-73838, AAER-3612</td>\n",
       "      <td>https://www.sec.gov/files/litigation/admin/201...</td>\n",
       "    </tr>\n",
       "    <tr>\n",
       "      <th>884</th>\n",
       "      <td>Dec. 15, 2014</td>\n",
       "      <td>Bruker Corporation</td>\n",
       "      <td>34-73835, AAER-3611</td>\n",
       "      <td>https://www.sec.gov/files/litigation/admin/201...</td>\n",
       "    </tr>\n",
       "    <tr>\n",
       "      <th>885</th>\n",
       "      <td>Dec. 15, 2014</td>\n",
       "      <td>Canadian Solar, Inc. and Yan Zhuang</td>\n",
       "      <td>34-73839, AAER-3613</td>\n",
       "      <td>https://www.sec.gov/files/litigation/admin/201...</td>\n",
       "    </tr>\n",
       "    <tr>\n",
       "      <th>886</th>\n",
       "      <td>Dec. 8, 2014</td>\n",
       "      <td>Brace &amp; Associates, PLLC</td>\n",
       "      <td>34-73772, AAER-3607</td>\n",
       "      <td>https://www.sec.gov/files/litigation/admin/201...</td>\n",
       "    </tr>\n",
       "    <tr>\n",
       "      <th>887</th>\n",
       "      <td>Dec. 8, 2014</td>\n",
       "      <td>Robert Cooper, Company and CPA PC</td>\n",
       "      <td>34-73769, AAER-3604</td>\n",
       "      <td>https://www.sec.gov/files/litigation/admin/201...</td>\n",
       "    </tr>\n",
       "  </tbody>\n",
       "</table>\n",
       "</div>"
      ],
      "text/plain": [
       "              Date                                        Respondents  \\\n",
       "883  Dec. 15, 2014  BDO China Dahua CPA Co., Ltd. Deloitte Touche ...   \n",
       "884  Dec. 15, 2014                                 Bruker Corporation   \n",
       "885  Dec. 15, 2014                Canadian Solar, Inc. and Yan Zhuang   \n",
       "886   Dec. 8, 2014                           Brace & Associates, PLLC   \n",
       "887   Dec. 8, 2014                  Robert Cooper, Company and CPA PC   \n",
       "\n",
       "         Release Numbers                                               Link  \n",
       "883  34-73838, AAER-3612  https://www.sec.gov/files/litigation/admin/201...  \n",
       "884  34-73835, AAER-3611  https://www.sec.gov/files/litigation/admin/201...  \n",
       "885  34-73839, AAER-3613  https://www.sec.gov/files/litigation/admin/201...  \n",
       "886  34-73772, AAER-3607  https://www.sec.gov/files/litigation/admin/201...  \n",
       "887  34-73769, AAER-3604  https://www.sec.gov/files/litigation/admin/201...  "
      ]
     },
     "execution_count": 3,
     "metadata": {},
     "output_type": "execute_result"
    }
   ],
   "source": [
    "num_pages = 8  # Specify the number of pages to scrape\n",
    "df = scraper.handle_pagination(num_pages)\n",
    "df.tail()"
   ]
  },
  {
   "cell_type": "code",
   "execution_count": 4,
   "metadata": {},
   "outputs": [
    {
     "name": "stderr",
     "output_type": "stream",
     "text": [
      "INFO: Data saved to AAER_Data_2014_onwards.csv successfully.\n"
     ]
    }
   ],
   "source": [
    "scraper.save_to_csv(\"AAER_Data_2014_onwards.csv\")"
   ]
  },
  {
   "cell_type": "code",
   "execution_count": 5,
   "metadata": {},
   "outputs": [],
   "source": [
    "df.to_csv(\"AAER_Data_2014_Onwards.csv\")"
   ]
  },
  {
   "cell_type": "code",
   "execution_count": null,
   "metadata": {},
   "outputs": [],
   "source": []
  }
 ],
 "metadata": {
  "kernelspec": {
   "display_name": "base",
   "language": "python",
   "name": "python3"
  },
  "language_info": {
   "codemirror_mode": {
    "name": "ipython",
    "version": 3
   },
   "file_extension": ".py",
   "mimetype": "text/x-python",
   "name": "python",
   "nbconvert_exporter": "python",
   "pygments_lexer": "ipython3",
   "version": "3.9.16"
  },
  "orig_nbformat": 4
 },
 "nbformat": 4,
 "nbformat_minor": 2
}
