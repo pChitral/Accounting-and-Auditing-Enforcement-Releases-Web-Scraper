{
 "cells": [
  {
   "cell_type": "code",
   "execution_count": 1,
   "metadata": {},
   "outputs": [
    {
     "data": {
      "text/html": [
       "<div>\n",
       "<style scoped>\n",
       "    .dataframe tbody tr th:only-of-type {\n",
       "        vertical-align: middle;\n",
       "    }\n",
       "\n",
       "    .dataframe tbody tr th {\n",
       "        vertical-align: top;\n",
       "    }\n",
       "\n",
       "    .dataframe thead th {\n",
       "        text-align: right;\n",
       "    }\n",
       "</style>\n",
       "<table border=\"1\" class=\"dataframe\">\n",
       "  <thead>\n",
       "    <tr style=\"text-align: right;\">\n",
       "      <th></th>\n",
       "      <th>Date</th>\n",
       "      <th>Respondents</th>\n",
       "      <th>Release Numbers</th>\n",
       "      <th>Link</th>\n",
       "    </tr>\n",
       "  </thead>\n",
       "  <tbody>\n",
       "    <tr>\n",
       "      <th>0</th>\n",
       "      <td>June 2, 2023</td>\n",
       "      <td>Pending Administrative Proceedings (Order Vaca...</td>\n",
       "      <td>33-11199, 34-97641, IA-6324, IC-34934, AAER-4414</td>\n",
       "      <td>https://www.sec.gov/files/litigation/opinions/...</td>\n",
       "    </tr>\n",
       "    <tr>\n",
       "      <th>1</th>\n",
       "      <td>June 2, 2023</td>\n",
       "      <td>Pending Administrative Proceedings (Order Dism...</td>\n",
       "      <td>33-11198, 34-97640, IA-6323, IC-34933, AAER-4413</td>\n",
       "      <td>https://www.sec.gov/files/litigation/opinions/...</td>\n",
       "    </tr>\n",
       "    <tr>\n",
       "      <th>2</th>\n",
       "      <td>June 1, 2023</td>\n",
       "      <td>Carl S. Schwartz, CPA</td>\n",
       "      <td>IA-6320, AAER-4412</td>\n",
       "      <td>https://www.sec.gov/files/litigation/admin/202...</td>\n",
       "    </tr>\n",
       "    <tr>\n",
       "      <th>3</th>\n",
       "      <td>May 26, 2023</td>\n",
       "      <td>Gartner, Inc.</td>\n",
       "      <td>34-97609, AAER-4411</td>\n",
       "      <td>https://www.sec.gov/files/litigation/admin/202...</td>\n",
       "    </tr>\n",
       "    <tr>\n",
       "      <th>4</th>\n",
       "      <td>May 25, 2023</td>\n",
       "      <td>Jia Roger Qian Wang, CPA and Wang Certified Pu...</td>\n",
       "      <td>34-97590, AAER-4410</td>\n",
       "      <td>https://www.sec.gov/files/litigation/opinions/...</td>\n",
       "    </tr>\n",
       "  </tbody>\n",
       "</table>\n",
       "</div>"
      ],
      "text/plain": [
       "           Date                                        Respondents  \\\n",
       "0  June 2, 2023  Pending Administrative Proceedings (Order Vaca...   \n",
       "1  June 2, 2023  Pending Administrative Proceedings (Order Dism...   \n",
       "2  June 1, 2023                              Carl S. Schwartz, CPA   \n",
       "3  May 26, 2023                                      Gartner, Inc.   \n",
       "4  May 25, 2023  Jia Roger Qian Wang, CPA and Wang Certified Pu...   \n",
       "\n",
       "                                    Release Numbers  \\\n",
       "0  33-11199, 34-97641, IA-6324, IC-34934, AAER-4414   \n",
       "1  33-11198, 34-97640, IA-6323, IC-34933, AAER-4413   \n",
       "2                                IA-6320, AAER-4412   \n",
       "3                               34-97609, AAER-4411   \n",
       "4                               34-97590, AAER-4410   \n",
       "\n",
       "                                                Link  \n",
       "0  https://www.sec.gov/files/litigation/opinions/...  \n",
       "1  https://www.sec.gov/files/litigation/opinions/...  \n",
       "2  https://www.sec.gov/files/litigation/admin/202...  \n",
       "3  https://www.sec.gov/files/litigation/admin/202...  \n",
       "4  https://www.sec.gov/files/litigation/opinions/...  "
      ]
     },
     "execution_count": 1,
     "metadata": {},
     "output_type": "execute_result"
    }
   ],
   "source": [
    "from scraper.config_loader import ConfigLoader\n",
    "from scraper.aaer_scraper import AAERScraper\n",
    "\n",
    "# Load configuration from file\n",
    "config = ConfigLoader.load_config('config.ini')\n",
    "\n",
    "# Create an instance of the TableScraper class with page number 0\n",
    "scraper = AAERScraper(0, config)\n",
    "\n",
    "# Scrape the table and get the DataFrame\n",
    "df = scraper.scrape_and_get_dataframe()\n",
    "\n",
    "# Print the DataFrame\n",
    "df.head()\n"
   ]
  },
  {
   "cell_type": "code",
   "execution_count": 3,
   "metadata": {},
   "outputs": [
    {
     "name": "stderr",
     "output_type": "stream",
     "text": [
      "INFO: Data saved to AAER_Data.csv successfully.\n"
     ]
    }
   ],
   "source": [
    "scraper.save_to_csv(\"AAER_Data.csv\")"
   ]
  },
  {
   "cell_type": "code",
   "execution_count": null,
   "metadata": {},
   "outputs": [],
   "source": []
  }
 ],
 "metadata": {
  "kernelspec": {
   "display_name": "base",
   "language": "python",
   "name": "python3"
  },
  "language_info": {
   "codemirror_mode": {
    "name": "ipython",
    "version": 3
   },
   "file_extension": ".py",
   "mimetype": "text/x-python",
   "name": "python",
   "nbconvert_exporter": "python",
   "pygments_lexer": "ipython3",
   "version": "3.9.16"
  },
  "orig_nbformat": 4
 },
 "nbformat": 4,
 "nbformat_minor": 2
}
